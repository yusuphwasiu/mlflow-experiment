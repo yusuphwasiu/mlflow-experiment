{
 "cells": [
  {
   "cell_type": "markdown",
   "metadata": {},
   "source": [
    "## Experimenting with Tracking Server"
   ]
  },
  {
   "cell_type": "code",
   "execution_count": 8,
   "metadata": {},
   "outputs": [],
   "source": [
    "import mlflow as flow\n",
    "\n",
    "# Set the MLflow tracking URI to the local server\n",
    "flow.set_tracking_uri(\"http://127.0.0.1:5000\")\n"
   ]
  },
  {
   "cell_type": "code",
   "execution_count": 10,
   "metadata": {},
   "outputs": [
    {
     "name": "stdout",
     "output_type": "stream",
     "text": [
      "🏃 View run crawling-panda-175 at: http://127.0.0.1:5000/#/experiments/793641212370781979/runs/6b8c69b1dea54b539898bf050b657ad6\n",
      "🧪 View experiment at: http://127.0.0.1:5000/#/experiments/793641212370781979\n"
     ]
    }
   ],
   "source": [
    "# Start a new MLflow run\n",
    "from mlflow import MlflowException\n",
    "\n",
    "experiment_name = \"Local Test Run\"\n",
    "\n",
    "# create and set experiment name\n",
    "try:\n",
    "    experiment_id = flow.create_experiment(name=experiment_name)\n",
    "    if experiment_id:\n",
    "        flow.set_experiment(experiment_name)\n",
    "except MlflowException:\n",
    "    experiment_id = flow.get_experiment_by_name(experiment_name).experiment_id\n",
    "    flow.set_experiment(experiment_name)\n",
    "\n",
    "with flow.start_run():\n",
    "    # log some metrics\n",
    "    flow.log_metric(\"Accuracy\", 0.9)\n",
    "    flow.log_metric(\"Precision\", 0.8)\n",
    "    flow.log_metric(\"Recall\", 0.7)\n",
    "    flow.log_metric(\"F1\", 0.6)\n",
    "    flow.log_metric(\"AUC\", 0.65)"
   ]
  },
  {
   "cell_type": "markdown",
   "metadata": {},
   "source": [
    "## Build ML Model"
   ]
  },
  {
   "cell_type": "code",
   "execution_count": 1,
   "metadata": {},
   "outputs": [],
   "source": [
    "import pandas as pd\n",
    "from sklearn import datasets\n",
    "from sklearn.linear_model import LogisticRegression\n",
    "from sklearn.metrics import accuracy_score\n",
    "from sklearn.model_selection import train_test_split\n",
    "import mlflow\n",
    "from mlflow.models import infer_signature\n"
   ]
  }
 ],
 "metadata": {
  "kernelspec": {
   "display_name": "mlflow",
   "language": "python",
   "name": "python3"
  },
  "language_info": {
   "codemirror_mode": {
    "name": "ipython",
    "version": 3
   },
   "file_extension": ".py",
   "mimetype": "text/x-python",
   "name": "python",
   "nbconvert_exporter": "python",
   "pygments_lexer": "ipython3",
   "version": "3.9.5"
  }
 },
 "nbformat": 4,
 "nbformat_minor": 2
}
